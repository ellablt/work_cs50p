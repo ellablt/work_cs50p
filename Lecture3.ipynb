{
 "cells": [
  {
   "cell_type": "code",
   "execution_count": 1,
   "id": "a7e1393b",
   "metadata": {},
   "outputs": [
    {
     "ename": "SyntaxError",
     "evalue": "EOL while scanning string literal (1807429930.py, line 1)",
     "output_type": "error",
     "traceback": [
      "\u001b[1;36m  File \u001b[1;32m\"C:\\Users\\NEW\\AppData\\Local\\Temp\\ipykernel_5328\\1807429930.py\"\u001b[1;36m, line \u001b[1;32m1\u001b[0m\n\u001b[1;33m    print(\"hello, world)\u001b[0m\n\u001b[1;37m                        ^\u001b[0m\n\u001b[1;31mSyntaxError\u001b[0m\u001b[1;31m:\u001b[0m EOL while scanning string literal\n"
     ]
    }
   ],
   "source": [
    "print(\"hello, world)"
   ]
  },
  {
   "cell_type": "code",
   "execution_count": 2,
   "id": "a2635525",
   "metadata": {},
   "outputs": [
    {
     "name": "stdout",
     "output_type": "stream",
     "text": [
      "hello, world\n"
     ]
    }
   ],
   "source": [
    "print(\"hello, world\")"
   ]
  },
  {
   "cell_type": "code",
   "execution_count": 3,
   "id": "bd8f2be1",
   "metadata": {},
   "outputs": [
    {
     "ename": "NameError",
     "evalue": "name 'world' is not defined",
     "output_type": "error",
     "traceback": [
      "\u001b[1;31m---------------------------------------------------------------------------\u001b[0m",
      "\u001b[1;31mNameError\u001b[0m                                 Traceback (most recent call last)",
      "\u001b[1;32m~\\AppData\\Local\\Temp\\ipykernel_5328\\3238880956.py\u001b[0m in \u001b[0;36m<module>\u001b[1;34m\u001b[0m\n\u001b[1;32m----> 1\u001b[1;33m \u001b[0mprint\u001b[0m\u001b[1;33m(\u001b[0m\u001b[1;34m\"hello\"\u001b[0m\u001b[1;33m,\u001b[0m \u001b[0mworld\u001b[0m\u001b[1;33m)\u001b[0m\u001b[1;33m\u001b[0m\u001b[1;33m\u001b[0m\u001b[0m\n\u001b[0m",
      "\u001b[1;31mNameError\u001b[0m: name 'world' is not defined"
     ]
    }
   ],
   "source": [
    "print(\"hello\", world)"
   ]
  },
  {
   "cell_type": "code",
   "execution_count": 6,
   "id": "65d25c1a",
   "metadata": {},
   "outputs": [
    {
     "name": "stdout",
     "output_type": "stream",
     "text": [
      "What's x? 50\n",
      "x is 50\n"
     ]
    }
   ],
   "source": [
    "x = int(input(\"What's x? \"))\n",
    "print(f\"x is {x}\")"
   ]
  },
  {
   "cell_type": "code",
   "execution_count": 7,
   "id": "e9fa068d",
   "metadata": {},
   "outputs": [
    {
     "name": "stdout",
     "output_type": "stream",
     "text": [
      "What's x? 0\n",
      "x is 0\n"
     ]
    }
   ],
   "source": [
    "x = int(input(\"What's x? \"))\n",
    "print(f\"x is {x}\")"
   ]
  },
  {
   "cell_type": "code",
   "execution_count": 8,
   "id": "6c936653",
   "metadata": {},
   "outputs": [
    {
     "name": "stdout",
     "output_type": "stream",
     "text": [
      "What's x? -1\n",
      "x is -1\n"
     ]
    }
   ],
   "source": [
    "x = int(input(\"What's x? \"))\n",
    "print(f\"x is {x}\")"
   ]
  },
  {
   "cell_type": "code",
   "execution_count": 9,
   "id": "921e27d5",
   "metadata": {},
   "outputs": [
    {
     "name": "stdout",
     "output_type": "stream",
     "text": [
      "What's x? cat\n"
     ]
    },
    {
     "ename": "ValueError",
     "evalue": "invalid literal for int() with base 10: 'cat'",
     "output_type": "error",
     "traceback": [
      "\u001b[1;31m---------------------------------------------------------------------------\u001b[0m",
      "\u001b[1;31mValueError\u001b[0m                                Traceback (most recent call last)",
      "\u001b[1;32m~\\AppData\\Local\\Temp\\ipykernel_5328\\1783727330.py\u001b[0m in \u001b[0;36m<module>\u001b[1;34m\u001b[0m\n\u001b[1;32m----> 1\u001b[1;33m \u001b[0mx\u001b[0m \u001b[1;33m=\u001b[0m \u001b[0mint\u001b[0m\u001b[1;33m(\u001b[0m\u001b[0minput\u001b[0m\u001b[1;33m(\u001b[0m\u001b[1;34m\"What's x? \"\u001b[0m\u001b[1;33m)\u001b[0m\u001b[1;33m)\u001b[0m\u001b[1;33m\u001b[0m\u001b[1;33m\u001b[0m\u001b[0m\n\u001b[0m\u001b[0;32m      2\u001b[0m \u001b[0mprint\u001b[0m\u001b[1;33m(\u001b[0m\u001b[1;34mf\"x is {x}\"\u001b[0m\u001b[1;33m)\u001b[0m\u001b[1;33m\u001b[0m\u001b[1;33m\u001b[0m\u001b[0m\n",
      "\u001b[1;31mValueError\u001b[0m: invalid literal for int() with base 10: 'cat'"
     ]
    }
   ],
   "source": [
    "x = int(input(\"What's x? \"))\n",
    "print(f\"x is {x}\")"
   ]
  },
  {
   "cell_type": "code",
   "execution_count": 10,
   "id": "e9fe623c",
   "metadata": {},
   "outputs": [
    {
     "name": "stdout",
     "output_type": "stream",
     "text": [
      "What's x?2\n",
      "x is 2\n"
     ]
    }
   ],
   "source": [
    "try:\n",
    "    x = int(input(\"What's x?\"))\n",
    "except ValueError:\n",
    "    print(\"x is not an integer\")\n",
    "\n",
    "print(f\"x is {x}\")"
   ]
  },
  {
   "cell_type": "code",
   "execution_count": 11,
   "id": "9a287b1c",
   "metadata": {},
   "outputs": [
    {
     "name": "stdout",
     "output_type": "stream",
     "text": [
      "What's x?50\n",
      "x is 50\n"
     ]
    }
   ],
   "source": [
    "try:\n",
    "    x = int(input(\"What's x?\"))\n",
    "except ValueError:\n",
    "    print(\"x is not an integer\")\n",
    "\n",
    "print(f\"x is {x}\")"
   ]
  },
  {
   "cell_type": "code",
   "execution_count": 13,
   "id": "de752332",
   "metadata": {},
   "outputs": [
    {
     "name": "stdout",
     "output_type": "stream",
     "text": [
      "What's x?cat\n",
      "x is not an integer\n",
      "x is 50\n"
     ]
    }
   ],
   "source": [
    "try:\n",
    "    x = int(input(\"What's x?\"))\n",
    "except ValueError:\n",
    "    print(\"x is not an integer\")\n",
    "\n",
    "print(f\"x is {x}\")"
   ]
  },
  {
   "cell_type": "code",
   "execution_count": 14,
   "id": "cb4f077f",
   "metadata": {},
   "outputs": [
    {
     "name": "stdout",
     "output_type": "stream",
     "text": [
      "What's x?50\n",
      "x is 50\n"
     ]
    }
   ],
   "source": [
    "try:\n",
    "    x = int(input(\"What's x?\"))\n",
    "except ValueError:\n",
    "    print(\"x is not an integer\")\n",
    "else:\n",
    "    print(f\"x is {x}\")"
   ]
  },
  {
   "cell_type": "code",
   "execution_count": 15,
   "id": "cd4900e2",
   "metadata": {},
   "outputs": [
    {
     "name": "stdout",
     "output_type": "stream",
     "text": [
      "What's x?cat\n",
      "x is not an integer\n"
     ]
    }
   ],
   "source": [
    "try:\n",
    "    x = int(input(\"What's x?\"))\n",
    "except ValueError:\n",
    "    print(\"x is not an integer\")\n",
    "else:\n",
    "    print(f\"x is {x}\")"
   ]
  },
  {
   "cell_type": "code",
   "execution_count": 16,
   "id": "18cbe537",
   "metadata": {},
   "outputs": [
    {
     "name": "stdout",
     "output_type": "stream",
     "text": [
      "What's x?50\n",
      "x is 50\n"
     ]
    }
   ],
   "source": [
    "while True:\n",
    "    try:\n",
    "        x = int(input(\"What's x?\"))\n",
    "    except ValueError:\n",
    "        print(\"x is not an integer\")\n",
    "    else:\n",
    "        break\n",
    "\n",
    "print(f\"x is {x}\")\n"
   ]
  },
  {
   "cell_type": "code",
   "execution_count": 17,
   "id": "4497636a",
   "metadata": {},
   "outputs": [
    {
     "name": "stdout",
     "output_type": "stream",
     "text": [
      "What's x?cat\n",
      "x is not an integer\n",
      "What's x?50\n",
      "x is 50\n"
     ]
    }
   ],
   "source": [
    "while True:\n",
    "    try:\n",
    "        x = int(input(\"What's x?\"))\n",
    "    except ValueError:\n",
    "        print(\"x is not an integer\")\n",
    "    else:\n",
    "        break\n",
    "\n",
    "print(f\"x is {x}\")"
   ]
  },
  {
   "cell_type": "code",
   "execution_count": 18,
   "id": "fe9755eb",
   "metadata": {},
   "outputs": [
    {
     "name": "stdout",
     "output_type": "stream",
     "text": [
      "What's x?50\n",
      "x is 50\n"
     ]
    }
   ],
   "source": [
    "def main():\n",
    "    x = get_int()\n",
    "    print(f\"x is {x}\")\n",
    "\n",
    "\n",
    "def get_int():\n",
    "    while True:\n",
    "        try:\n",
    "            x = int(input(\"What's x?\"))\n",
    "        except ValueError:\n",
    "            print(\"x is not an integer\")\n",
    "        else:\n",
    "            break\n",
    "    return x\n",
    "\n",
    "\n",
    "main()"
   ]
  },
  {
   "cell_type": "code",
   "execution_count": 19,
   "id": "375a04a5",
   "metadata": {},
   "outputs": [
    {
     "name": "stdout",
     "output_type": "stream",
     "text": [
      "What's x?cat\n",
      "x is not an integer\n",
      "What's x?kedi\n",
      "x is not an integer\n",
      "What's x?3\n",
      "x is 3\n"
     ]
    }
   ],
   "source": [
    "def main():\n",
    "    x = get_int()\n",
    "    print(f\"x is {x}\")\n",
    "\n",
    "\n",
    "def get_int():\n",
    "    while True:\n",
    "        try:\n",
    "            x = int(input(\"What's x?\"))\n",
    "        except ValueError:\n",
    "            print(\"x is not an integer\")\n",
    "        else:\n",
    "            break\n",
    "    return x\n",
    "\n",
    "\n",
    "main()"
   ]
  },
  {
   "cell_type": "code",
   "execution_count": 21,
   "id": "db8ab2c1",
   "metadata": {},
   "outputs": [
    {
     "name": "stdout",
     "output_type": "stream",
     "text": [
      "What's x?cati\n",
      "x is not an integer\n",
      "What's x?55\n",
      "x is 55\n"
     ]
    }
   ],
   "source": [
    "def main():\n",
    "    x = get_int()\n",
    "    print(f\"x is {x}\")\n",
    "\n",
    "\n",
    "def get_int():\n",
    "    while True:\n",
    "        try:\n",
    "            x = int(input(\"What's x?\"))\n",
    "        except ValueError:\n",
    "            print(\"x is not an integer\")\n",
    "        else:\n",
    "            return x\n",
    "\n",
    "\n",
    "main()"
   ]
  },
  {
   "cell_type": "code",
   "execution_count": 22,
   "id": "87028236",
   "metadata": {},
   "outputs": [
    {
     "name": "stdout",
     "output_type": "stream",
     "text": [
      "What's x?cat\n",
      "x is not an integer\n",
      "What's x?50\n",
      "x is 50\n"
     ]
    }
   ],
   "source": [
    "def main():\n",
    "    x = get_int()\n",
    "    print(f\"x is {x}\")\n",
    "\n",
    "\n",
    "def get_int():\n",
    "    while True:\n",
    "        try:\n",
    "            return int(input(\"What's x?\"))\n",
    "        except ValueError:\n",
    "            print(\"x is not an integer\")\n",
    "\n",
    "\n",
    "main()"
   ]
  },
  {
   "cell_type": "code",
   "execution_count": 23,
   "id": "69c5793c",
   "metadata": {},
   "outputs": [
    {
     "name": "stdout",
     "output_type": "stream",
     "text": [
      "What's x?cat\n",
      "What's x?5\n",
      "x is 5\n"
     ]
    }
   ],
   "source": [
    "def main():\n",
    "    x = get_int()\n",
    "    print(f\"x is {x}\")\n",
    "\n",
    "\n",
    "def get_int():\n",
    "    while True:\n",
    "        try:\n",
    "            return int(input(\"What's x?\"))\n",
    "        except ValueError:\n",
    "            pass\n",
    "\n",
    "\n",
    "main()"
   ]
  },
  {
   "cell_type": "code",
   "execution_count": 24,
   "id": "0edf065c",
   "metadata": {},
   "outputs": [
    {
     "name": "stdout",
     "output_type": "stream",
     "text": [
      "What's x? cati\n",
      "What's x? ha\n",
      "What's x? 56\n",
      "x is 56\n"
     ]
    }
   ],
   "source": [
    "def main():\n",
    "    x = get_int(\"What's x? \")\n",
    "    print(f\"x is {x}\")\n",
    "\n",
    "\n",
    "def get_int(prompt):\n",
    "    while True:\n",
    "        try:\n",
    "            return int(input(prompt))\n",
    "        except ValueError:\n",
    "            pass\n",
    "\n",
    "\n",
    "main()"
   ]
  }
 ],
 "metadata": {
  "kernelspec": {
   "display_name": "Python 3 (ipykernel)",
   "language": "python",
   "name": "python3"
  },
  "language_info": {
   "codemirror_mode": {
    "name": "ipython",
    "version": 3
   },
   "file_extension": ".py",
   "mimetype": "text/x-python",
   "name": "python",
   "nbconvert_exporter": "python",
   "pygments_lexer": "ipython3",
   "version": "3.9.13"
  }
 },
 "nbformat": 4,
 "nbformat_minor": 5
}
